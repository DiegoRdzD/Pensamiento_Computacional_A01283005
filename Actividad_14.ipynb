{
  "nbformat": 4,
  "nbformat_minor": 0,
  "metadata": {
    "colab": {
      "name": "Actividad 14.ipynb",
      "provenance": []
    },
    "kernelspec": {
      "name": "python3",
      "display_name": "Python 3"
    },
    "language_info": {
      "name": "python"
    }
  },
  "cells": [
    {
      "cell_type": "markdown",
      "metadata": {
        "id": "llxV8AYXsOrH"
      },
      "source": [
        "## Actividad en clase 14: Construcción de programas que manipulan archivos\n",
        "\n",
        "Fecha: 01/10/2021\n",
        "\n",
        "Nombre: Diego Rodriguez Davila \n",
        "\n",
        "Matrícula: A01283005\n",
        "\n",
        "Enlace: https://colab.research.google.com/drive/1BOS2GA2W5E1xvoh3Ys1mfQuc3R5WcqO6?usp=sharing"
      ]
    },
    {
      "cell_type": "markdown",
      "metadata": {
        "id": "k0K7PM34sxdA"
      },
      "source": [
        "### Problema 1\n",
        "\n",
        "Crear una lista"
      ]
    },
    {
      "cell_type": "code",
      "metadata": {
        "colab": {
          "base_uri": "https://localhost:8080/"
        },
        "id": "KKCLTxSKq0WF",
        "outputId": "f9b171ac-ddbe-48a1-ba18-0f9870a64660"
      },
      "source": [
        "palabra = input(\"Ingresa una palabra: \")\n",
        "lista = []\n",
        "\n",
        "while palabra != \"*\":\n",
        "  lista.append(palabra)\n",
        "  palabra = input(\"Ingresa una palabra: \")"
      ],
      "execution_count": null,
      "outputs": [
        {
          "name": "stdout",
          "output_type": "stream",
          "text": [
            "Ingresa una palabra: Melissa\n",
            "Ingresa una palabra: Ximena\n",
            "Ingresa una palabra: Andrea\n",
            "Ingresa una palabra: *\n"
          ]
        }
      ]
    },
    {
      "cell_type": "code",
      "metadata": {
        "colab": {
          "base_uri": "https://localhost:8080/"
        },
        "id": "eNrnbxNTtW2b",
        "outputId": "a7ef028f-3e21-49c1-f624-3b9f1af28c86"
      },
      "source": [
        "lista"
      ],
      "execution_count": null,
      "outputs": [
        {
          "output_type": "execute_result",
          "data": {
            "text/plain": [
              "['Melissa', 'Ximena', 'Andrea']"
            ]
          },
          "metadata": {},
          "execution_count": 3
        }
      ]
    },
    {
      "cell_type": "markdown",
      "metadata": {
        "id": "717kTVr9tZh1"
      },
      "source": [
        "## Guardar la lista en archivo\n",
        "\n",
        "### Forma 1 para guardar texto archivos"
      ]
    },
    {
      "cell_type": "code",
      "metadata": {
        "id": "ReewzpXUtYCa"
      },
      "source": [
        "archivo = open(\"palabras.txt\", \"w\")\n",
        "\n",
        "for elemento in lista:\n",
        "  archivo.write(elemento + \"\\n\")\n",
        "\n",
        "archivo.close()"
      ],
      "execution_count": null,
      "outputs": []
    },
    {
      "cell_type": "markdown",
      "metadata": {
        "id": "QbI5ZRQ3t2k0"
      },
      "source": [
        "### Forma 2 para guardar texto en archivos (mejor práctica)"
      ]
    },
    {
      "cell_type": "code",
      "metadata": {
        "id": "vTpIFHVgt6TQ"
      },
      "source": [
        "with open(\"palabras.txt\", \"w\") as archivo:\n",
        "  texto = \"\\n\".join(lista)\n",
        "  archivo.write(texto)"
      ],
      "execution_count": null,
      "outputs": []
    },
    {
      "cell_type": "markdown",
      "metadata": {
        "id": "uSE-ZDQluUJe"
      },
      "source": [
        "### Forma 1 para leer texto de un archivo"
      ]
    },
    {
      "cell_type": "code",
      "metadata": {
        "colab": {
          "base_uri": "https://localhost:8080/"
        },
        "id": "_78c7GsWuW-1",
        "outputId": "dab16574-76e7-4578-9fe1-72e5809cc744"
      },
      "source": [
        "with open(\"palabras.txt\", \"r\") as archivo:\n",
        "  contenido = archivo.read()\n",
        "  print(contenido)"
      ],
      "execution_count": null,
      "outputs": [
        {
          "output_type": "stream",
          "name": "stdout",
          "text": [
            "Melissa\n",
            "Ximena\n",
            "Andrea\n"
          ]
        }
      ]
    },
    {
      "cell_type": "markdown",
      "metadata": {
        "id": "DqzQ4LCcu1sg"
      },
      "source": [
        "### Forma 2 para leer texto de un archivo"
      ]
    },
    {
      "cell_type": "code",
      "metadata": {
        "colab": {
          "base_uri": "https://localhost:8080/"
        },
        "id": "xNImtGJFu4GZ",
        "outputId": "2b5190e4-7130-4dac-dd8a-d8ffbb66b5bc"
      },
      "source": [
        "with open(\"palabras.txt\", \"r\") as archivo:\n",
        "  lista_nueva = archivo.readlines()\n",
        "\n",
        "lista_nueva"
      ],
      "execution_count": null,
      "outputs": [
        {
          "output_type": "execute_result",
          "data": {
            "text/plain": [
              "['Melissa\\n', 'Ximena\\n', 'Andrea']"
            ]
          },
          "metadata": {},
          "execution_count": 8
        }
      ]
    },
    {
      "cell_type": "markdown",
      "metadata": {
        "id": "i5pbwjxQvMrW"
      },
      "source": [
        "### Ordenar lista de palabras"
      ]
    },
    {
      "cell_type": "code",
      "metadata": {
        "id": "edK4zo0evOzt"
      },
      "source": [
        "lista_nueva.sort()"
      ],
      "execution_count": null,
      "outputs": []
    },
    {
      "cell_type": "code",
      "metadata": {
        "colab": {
          "base_uri": "https://localhost:8080/"
        },
        "id": "ximVC0fXvTeY",
        "outputId": "7a886b16-df8e-4c4c-db22-f52684646aba"
      },
      "source": [
        "lista_nueva"
      ],
      "execution_count": null,
      "outputs": [
        {
          "output_type": "execute_result",
          "data": {
            "text/plain": [
              "['Andrea', 'Melissa\\n', 'Ximena\\n']"
            ]
          },
          "metadata": {},
          "execution_count": 10
        }
      ]
    },
    {
      "cell_type": "markdown",
      "metadata": {
        "id": "lFUlhKnOvWo6"
      },
      "source": [
        "### Guardar lista nueva en archivo"
      ]
    },
    {
      "cell_type": "code",
      "metadata": {
        "id": "uTS80pj6vYl1"
      },
      "source": [
        "with open(\"palabras.txt\", \"w\") as archivo:\n",
        "  archivo.writelines(lista_nueva)"
      ],
      "execution_count": null,
      "outputs": []
    },
    {
      "cell_type": "markdown",
      "metadata": {
        "id": "iKLmRaJ2vkYa"
      },
      "source": [
        "### Agregar 3 palabras a la lista"
      ]
    },
    {
      "cell_type": "code",
      "metadata": {
        "colab": {
          "base_uri": "https://localhost:8080/"
        },
        "id": "8ZAcsPX0vmfM",
        "outputId": "a0eeda31-abd0-4612-acee-b37e762e4645"
      },
      "source": [
        "# with open(\"palabras.txt\", \"w\") as archivo:\n",
        "\n",
        "for num in range(3):\n",
        "  palabra = input(\"Ingresa una palabra: \")\n",
        "  lista_nueva.append(palabra + \"\\n\")\n",
        "  #archivo.write(palabra + \"\\n\")"
      ],
      "execution_count": null,
      "outputs": [
        {
          "name": "stdout",
          "output_type": "stream",
          "text": [
            "Ingresa una palabra: Ana\n",
            "Ingresa una palabra: Mary\n",
            "Ingresa una palabra: Nancy\n"
          ]
        }
      ]
    },
    {
      "cell_type": "code",
      "metadata": {
        "id": "eud6Y3jiwPpc"
      },
      "source": [
        "lista_nueva.sort(key = str.lower)"
      ],
      "execution_count": null,
      "outputs": []
    },
    {
      "cell_type": "markdown",
      "metadata": {
        "id": "Nm23ln3DwVX1"
      },
      "source": [
        "### Guardar lista en archivo de texto"
      ]
    },
    {
      "cell_type": "code",
      "metadata": {
        "id": "l6Wn-itXwcrS"
      },
      "source": [
        "with open(\"palabras.txt\", \"w\") as archivo:\n",
        "  archivo.writelines(lista_nueva)"
      ],
      "execution_count": null,
      "outputs": []
    },
    {
      "cell_type": "markdown",
      "metadata": {
        "id": "kyoWAl82wnJY"
      },
      "source": [
        "### Agregar: Autor, fecha y hora del programa"
      ]
    },
    {
      "cell_type": "code",
      "metadata": {
        "id": "oTJ__LuUwo-C"
      },
      "source": [
        "with open(\"palabras.txt\", \"a\") as archivo:\n",
        "  archivo.write(\"Autor: Germán\\nFecha: 01/10/2021\\nHora: 14:30 horas\")"
      ],
      "execution_count": null,
      "outputs": []
    }
  ]
}